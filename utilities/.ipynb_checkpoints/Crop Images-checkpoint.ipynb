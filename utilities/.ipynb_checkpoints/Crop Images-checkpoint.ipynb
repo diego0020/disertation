{
 "cells": [
  {
   "cell_type": "code",
   "execution_count": 1,
   "metadata": {
    "collapsed": true
   },
   "outputs": [],
   "source": [
    "import glob"
   ]
  },
  {
   "cell_type": "code",
   "execution_count": 17,
   "metadata": {
    "collapsed": true
   },
   "outputs": [],
   "source": [
    "from PIL import Image\n",
    "import os"
   ]
  },
  {
   "cell_type": "code",
   "execution_count": 3,
   "metadata": {
    "collapsed": false
   },
   "outputs": [],
   "source": [
    "thalamus_images = glob.glob(\"../figures/marin/thalamus_*.png\")"
   ]
  },
  {
   "cell_type": "code",
   "execution_count": 4,
   "metadata": {
    "collapsed": false
   },
   "outputs": [
    {
     "data": {
      "text/plain": [
       "['../figures/marin/thalamus_mri.png',\n",
       " '../figures/marin/thalamus_side_fibers_peduncle.png',\n",
       " '../figures/marin/thalamus_side_fibers.png',\n",
       " '../figures/marin/thalamus_aparc.png',\n",
       " '../figures/marin/thalamus_dti.png']"
      ]
     },
     "execution_count": 4,
     "metadata": {},
     "output_type": "execute_result"
    }
   ],
   "source": [
    "thalamus_images"
   ]
  },
  {
   "cell_type": "code",
   "execution_count": 6,
   "metadata": {
    "collapsed": true
   },
   "outputs": [],
   "source": [
    "box = (517,108,517+850,108+686)\n",
    "for img_name in thalamus_images:\n",
    "    \n",
    "    img = Image.open(img_name)\n",
    "    region = img.crop(box)\n",
    "    out_name = '../figures/marin/cropped_thalamus_mri.png'\n",
    "    region.save(out_name)"
   ]
  },
  {
   "cell_type": "code",
   "execution_count": null,
   "metadata": {
    "collapsed": true
   },
   "outputs": [],
   "source": []
  }
 ],
 "metadata": {
  "kernelspec": {
   "display_name": "Python 3",
   "language": "python",
   "name": "python3"
  },
  "language_info": {
   "codemirror_mode": {
    "name": "ipython",
    "version": 3
   },
   "file_extension": ".py",
   "mimetype": "text/x-python",
   "name": "python",
   "nbconvert_exporter": "python",
   "pygments_lexer": "ipython3",
   "version": "3.5.0"
  }
 },
 "nbformat": 4,
 "nbformat_minor": 0
}
